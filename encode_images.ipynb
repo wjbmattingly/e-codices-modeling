{
 "cells": [
  {
   "cell_type": "code",
   "execution_count": 1,
   "id": "00a5d059-32d9-4ddc-9890-5620eee88f85",
   "metadata": {},
   "outputs": [],
   "source": [
    "from DeepImageSearch import Index,LoadData,SearchImage\n",
    "from umap import UMAP"
   ]
  },
  {
   "cell_type": "code",
   "execution_count": 2,
   "id": "1c02f25a-5828-4d1d-8b0d-be85b5f42d36",
   "metadata": {},
   "outputs": [],
   "source": [
    "image_list = LoadData().from_folder(['images/kba/kba-0016-1'])"
   ]
  },
  {
   "cell_type": "code",
   "execution_count": 3,
   "id": "39c2e9af-dee5-474c-b336-fb882567c1d4",
   "metadata": {},
   "outputs": [
    {
     "data": {
      "text/plain": [
       "['images/kba/kba-0016-1\\\\0001.jpg',\n",
       " 'images/kba/kba-0016-1\\\\0002.jpg',\n",
       " 'images/kba/kba-0016-1\\\\0003.jpg',\n",
       " 'images/kba/kba-0016-1\\\\0004.jpg',\n",
       " 'images/kba/kba-0016-1\\\\0005.jpg',\n",
       " 'images/kba/kba-0016-1\\\\0006.jpg',\n",
       " 'images/kba/kba-0016-1\\\\0007.jpg',\n",
       " 'images/kba/kba-0016-1\\\\0008.jpg',\n",
       " 'images/kba/kba-0016-1\\\\0009.jpg',\n",
       " 'images/kba/kba-0016-1\\\\0010.jpg']"
      ]
     },
     "execution_count": 3,
     "metadata": {},
     "output_type": "execute_result"
    }
   ],
   "source": [
    "image_list[:10]"
   ]
  },
  {
   "cell_type": "code",
   "execution_count": 4,
   "id": "6ae927cd-2621-4097-9bd3-cb401832391e",
   "metadata": {},
   "outputs": [
    {
     "name": "stdout",
     "output_type": "stream",
     "text": [
      "Metadata and Features are allready present, Do you want Extract Again? Enter yes or no\n"
     ]
    },
    {
     "name": "stdin",
     "output_type": "stream",
     "text": [
      " yes\n"
     ]
    },
    {
     "name": "stderr",
     "output_type": "stream",
     "text": [
      "100%|████████████████████████████████████████████████████████████████████████████████| 140/140 [00:08<00:00, 16.90it/s]\n"
     ]
    },
    {
     "name": "stdout",
     "output_type": "stream",
     "text": [
      "Image Meta Information Saved: [meta-data-files/image_data_features.pkl]\n"
     ]
    },
    {
     "name": "stderr",
     "output_type": "stream",
     "text": [
      "140it [00:00, 3264.21it/s]"
     ]
    },
    {
     "name": "stdout",
     "output_type": "stream",
     "text": [
      "Saved the Indexed File:[meta-data-files/image_features_vectors.ann]\n"
     ]
    },
    {
     "name": "stderr",
     "output_type": "stream",
     "text": [
      "\n"
     ]
    }
   ],
   "source": [
    "Index(image_list).Start()"
   ]
  },
  {
   "cell_type": "code",
   "execution_count": 6,
   "id": "a08895c0-d670-456a-baa7-878f22fc39c1",
   "metadata": {},
   "outputs": [],
   "source": [
    "# vectors = []\n",
    "# for image in image_list:\n",
    "#     # print (image)\n",
    "#     vector = SearchImage().get_query_vector(image_path=image)\n",
    "#     vectors.append(vector)"
   ]
  },
  {
   "cell_type": "code",
   "execution_count": 7,
   "id": "2ac03c2d-acd4-484b-9fb0-452b72336b23",
   "metadata": {},
   "outputs": [
    {
     "data": {
      "text/plain": [
       "25"
      ]
     },
     "execution_count": 7,
     "metadata": {},
     "output_type": "execute_result"
    }
   ],
   "source": [
    "len(vectors)"
   ]
  },
  {
   "cell_type": "code",
   "execution_count": 16,
   "id": "8ce4a813-1a82-42ed-a745-b90b4eb27e43",
   "metadata": {},
   "outputs": [],
   "source": [
    "import pandas as pd"
   ]
  },
  {
   "cell_type": "code",
   "execution_count": 26,
   "id": "1d8c498d-92d1-40a2-b185-264578430c98",
   "metadata": {},
   "outputs": [],
   "source": [
    "with open(\"temp.txt\", \"r\") as f:\n",
    "    urls = f.read().splitlines()"
   ]
  },
  {
   "cell_type": "code",
   "execution_count": 30,
   "id": "0435f798-41f2-46ee-8dff-12998d20d8c3",
   "metadata": {},
   "outputs": [],
   "source": [
    "df = pd.DataFrame(image_list[:25], columns=['text'])\n",
    "df['image']= urls"
   ]
  },
  {
   "cell_type": "code",
   "execution_count": 32,
   "id": "9f98d850-503b-4046-aab8-31857633d617",
   "metadata": {},
   "outputs": [],
   "source": [
    "# Reduce the dimensions with UMAP\n",
    "umap = UMAP()\n",
    "X_tfm = umap.fit_transform(vectors)\n",
    "\n",
    "# Apply coordinates\n",
    "df['x'] = X_tfm[:, 0]\n",
    "df['y'] = X_tfm[:, 1]\n",
    "df.to_csv(\"ready.csv\")"
   ]
  },
  {
   "cell_type": "code",
   "execution_count": 33,
   "id": "ed00a180-f30b-45f6-b0ce-6b7b948e1e7f",
   "metadata": {},
   "outputs": [
    {
     "data": {
      "text/html": [
       "<div>\n",
       "<style scoped>\n",
       "    .dataframe tbody tr th:only-of-type {\n",
       "        vertical-align: middle;\n",
       "    }\n",
       "\n",
       "    .dataframe tbody tr th {\n",
       "        vertical-align: top;\n",
       "    }\n",
       "\n",
       "    .dataframe thead th {\n",
       "        text-align: right;\n",
       "    }\n",
       "</style>\n",
       "<table border=\"1\" class=\"dataframe\">\n",
       "  <thead>\n",
       "    <tr style=\"text-align: right;\">\n",
       "      <th></th>\n",
       "      <th>text</th>\n",
       "      <th>image</th>\n",
       "      <th>x</th>\n",
       "      <th>y</th>\n",
       "    </tr>\n",
       "  </thead>\n",
       "  <tbody>\n",
       "    <tr>\n",
       "      <th>0</th>\n",
       "      <td>data/images/0000.jpg</td>\n",
       "      <td>https://www.e-codices.unifr.ch/loris/kba/kba-0...</td>\n",
       "      <td>17.137331</td>\n",
       "      <td>14.796584</td>\n",
       "    </tr>\n",
       "    <tr>\n",
       "      <th>1</th>\n",
       "      <td>data/images/0001.jpg</td>\n",
       "      <td>https://www.e-codices.unifr.ch/loris/kba/kba-0...</td>\n",
       "      <td>17.431763</td>\n",
       "      <td>12.255939</td>\n",
       "    </tr>\n",
       "    <tr>\n",
       "      <th>2</th>\n",
       "      <td>data/images/0002.jpg</td>\n",
       "      <td>https://www.e-codices.unifr.ch/loris/kba/kba-0...</td>\n",
       "      <td>17.852579</td>\n",
       "      <td>12.223934</td>\n",
       "    </tr>\n",
       "    <tr>\n",
       "      <th>3</th>\n",
       "      <td>data/images/0003.jpg</td>\n",
       "      <td>https://www.e-codices.unifr.ch/loris/kba/kba-0...</td>\n",
       "      <td>18.188419</td>\n",
       "      <td>12.738263</td>\n",
       "    </tr>\n",
       "    <tr>\n",
       "      <th>4</th>\n",
       "      <td>data/images/0004.jpg</td>\n",
       "      <td>https://www.e-codices.unifr.ch/loris/kba/kba-0...</td>\n",
       "      <td>19.622440</td>\n",
       "      <td>13.603625</td>\n",
       "    </tr>\n",
       "    <tr>\n",
       "      <th>5</th>\n",
       "      <td>data/images/0005.jpg</td>\n",
       "      <td>https://www.e-codices.unifr.ch/loris/kba/kba-B...</td>\n",
       "      <td>16.467052</td>\n",
       "      <td>14.104152</td>\n",
       "    </tr>\n",
       "    <tr>\n",
       "      <th>6</th>\n",
       "      <td>data/images/0006.jpg</td>\n",
       "      <td>https://www.e-codices.unifr.ch/loris/kba/kba-M...</td>\n",
       "      <td>16.570480</td>\n",
       "      <td>14.594378</td>\n",
       "    </tr>\n",
       "    <tr>\n",
       "      <th>7</th>\n",
       "      <td>data/images/0007.jpg</td>\n",
       "      <td>https://www.e-codices.unifr.ch/loris/kba/kba-M...</td>\n",
       "      <td>17.432487</td>\n",
       "      <td>13.286150</td>\n",
       "    </tr>\n",
       "    <tr>\n",
       "      <th>8</th>\n",
       "      <td>data/images/0008.jpg</td>\n",
       "      <td>https://www.e-codices.unifr.ch/loris/kba/kba-M...</td>\n",
       "      <td>17.994232</td>\n",
       "      <td>14.755784</td>\n",
       "    </tr>\n",
       "    <tr>\n",
       "      <th>9</th>\n",
       "      <td>data/images/0009.jpg</td>\n",
       "      <td>https://www.e-codices.unifr.ch/loris/kba/kba-M...</td>\n",
       "      <td>18.048140</td>\n",
       "      <td>13.413263</td>\n",
       "    </tr>\n",
       "    <tr>\n",
       "      <th>10</th>\n",
       "      <td>data/images/0010.jpg</td>\n",
       "      <td>https://www.e-codices.unifr.ch/loris/kba/kba-M...</td>\n",
       "      <td>18.956749</td>\n",
       "      <td>13.656667</td>\n",
       "    </tr>\n",
       "    <tr>\n",
       "      <th>11</th>\n",
       "      <td>data/images/0011.jpg</td>\n",
       "      <td>https://www.e-codices.unifr.ch/loris/kba/kba-M...</td>\n",
       "      <td>19.992907</td>\n",
       "      <td>13.160741</td>\n",
       "    </tr>\n",
       "    <tr>\n",
       "      <th>12</th>\n",
       "      <td>data/images/0012.jpg</td>\n",
       "      <td>https://www.e-codices.unifr.ch/loris/kba/kba-M...</td>\n",
       "      <td>19.417843</td>\n",
       "      <td>12.685539</td>\n",
       "    </tr>\n",
       "    <tr>\n",
       "      <th>13</th>\n",
       "      <td>data/images/0013.jpg</td>\n",
       "      <td>https://www.e-codices.unifr.ch/loris/kba/kba-M...</td>\n",
       "      <td>19.581850</td>\n",
       "      <td>12.963845</td>\n",
       "    </tr>\n",
       "    <tr>\n",
       "      <th>14</th>\n",
       "      <td>data/images/0014.jpg</td>\n",
       "      <td>https://www.e-codices.unifr.ch/loris/kba/kba-M...</td>\n",
       "      <td>16.773361</td>\n",
       "      <td>12.908709</td>\n",
       "    </tr>\n",
       "    <tr>\n",
       "      <th>15</th>\n",
       "      <td>data/images/0015.jpg</td>\n",
       "      <td>https://www.e-codices.unifr.ch/loris/kba/kba-M...</td>\n",
       "      <td>16.732038</td>\n",
       "      <td>13.400492</td>\n",
       "    </tr>\n",
       "    <tr>\n",
       "      <th>16</th>\n",
       "      <td>data/images/0016.jpg</td>\n",
       "      <td>https://www.e-codices.unifr.ch/loris/kba/kba-M...</td>\n",
       "      <td>18.867928</td>\n",
       "      <td>12.864190</td>\n",
       "    </tr>\n",
       "    <tr>\n",
       "      <th>17</th>\n",
       "      <td>data/images/0017.jpg</td>\n",
       "      <td>https://www.e-codices.unifr.ch/loris/kba/kba-M...</td>\n",
       "      <td>18.496155</td>\n",
       "      <td>14.859520</td>\n",
       "    </tr>\n",
       "    <tr>\n",
       "      <th>18</th>\n",
       "      <td>data/images/0018.jpg</td>\n",
       "      <td>https://www.e-codices.unifr.ch/loris/kba/kba-M...</td>\n",
       "      <td>18.791613</td>\n",
       "      <td>14.527309</td>\n",
       "    </tr>\n",
       "    <tr>\n",
       "      <th>19</th>\n",
       "      <td>data/images/0019.jpg</td>\n",
       "      <td>https://www.e-codices.unifr.ch/loris/kba/kba-M...</td>\n",
       "      <td>17.664036</td>\n",
       "      <td>12.795362</td>\n",
       "    </tr>\n",
       "    <tr>\n",
       "      <th>20</th>\n",
       "      <td>data/images/0020.jpg</td>\n",
       "      <td>https://www.e-codices.unifr.ch/loris/kba/kba-M...</td>\n",
       "      <td>17.978642</td>\n",
       "      <td>13.998996</td>\n",
       "    </tr>\n",
       "    <tr>\n",
       "      <th>21</th>\n",
       "      <td>data/images/0021.jpg</td>\n",
       "      <td>https://www.e-codices.unifr.ch/loris/kba/kba-M...</td>\n",
       "      <td>17.236235</td>\n",
       "      <td>13.877124</td>\n",
       "    </tr>\n",
       "    <tr>\n",
       "      <th>22</th>\n",
       "      <td>data/images/0022.jpg</td>\n",
       "      <td>https://www.e-codices.unifr.ch/loris/kba/kba-M...</td>\n",
       "      <td>18.103611</td>\n",
       "      <td>14.267770</td>\n",
       "    </tr>\n",
       "    <tr>\n",
       "      <th>23</th>\n",
       "      <td>data/images/0023.jpg</td>\n",
       "      <td>https://www.e-codices.unifr.ch/loris/kba/kba-M...</td>\n",
       "      <td>19.200346</td>\n",
       "      <td>13.308566</td>\n",
       "    </tr>\n",
       "    <tr>\n",
       "      <th>24</th>\n",
       "      <td>data/images/0024.jpg</td>\n",
       "      <td>https://www.e-codices.unifr.ch/loris/kba/kba-M...</td>\n",
       "      <td>17.022194</td>\n",
       "      <td>14.261072</td>\n",
       "    </tr>\n",
       "  </tbody>\n",
       "</table>\n",
       "</div>"
      ],
      "text/plain": [
       "                    text                                              image  \\\n",
       "0   data/images/0000.jpg  https://www.e-codices.unifr.ch/loris/kba/kba-0...   \n",
       "1   data/images/0001.jpg  https://www.e-codices.unifr.ch/loris/kba/kba-0...   \n",
       "2   data/images/0002.jpg  https://www.e-codices.unifr.ch/loris/kba/kba-0...   \n",
       "3   data/images/0003.jpg  https://www.e-codices.unifr.ch/loris/kba/kba-0...   \n",
       "4   data/images/0004.jpg  https://www.e-codices.unifr.ch/loris/kba/kba-0...   \n",
       "5   data/images/0005.jpg  https://www.e-codices.unifr.ch/loris/kba/kba-B...   \n",
       "6   data/images/0006.jpg  https://www.e-codices.unifr.ch/loris/kba/kba-M...   \n",
       "7   data/images/0007.jpg  https://www.e-codices.unifr.ch/loris/kba/kba-M...   \n",
       "8   data/images/0008.jpg  https://www.e-codices.unifr.ch/loris/kba/kba-M...   \n",
       "9   data/images/0009.jpg  https://www.e-codices.unifr.ch/loris/kba/kba-M...   \n",
       "10  data/images/0010.jpg  https://www.e-codices.unifr.ch/loris/kba/kba-M...   \n",
       "11  data/images/0011.jpg  https://www.e-codices.unifr.ch/loris/kba/kba-M...   \n",
       "12  data/images/0012.jpg  https://www.e-codices.unifr.ch/loris/kba/kba-M...   \n",
       "13  data/images/0013.jpg  https://www.e-codices.unifr.ch/loris/kba/kba-M...   \n",
       "14  data/images/0014.jpg  https://www.e-codices.unifr.ch/loris/kba/kba-M...   \n",
       "15  data/images/0015.jpg  https://www.e-codices.unifr.ch/loris/kba/kba-M...   \n",
       "16  data/images/0016.jpg  https://www.e-codices.unifr.ch/loris/kba/kba-M...   \n",
       "17  data/images/0017.jpg  https://www.e-codices.unifr.ch/loris/kba/kba-M...   \n",
       "18  data/images/0018.jpg  https://www.e-codices.unifr.ch/loris/kba/kba-M...   \n",
       "19  data/images/0019.jpg  https://www.e-codices.unifr.ch/loris/kba/kba-M...   \n",
       "20  data/images/0020.jpg  https://www.e-codices.unifr.ch/loris/kba/kba-M...   \n",
       "21  data/images/0021.jpg  https://www.e-codices.unifr.ch/loris/kba/kba-M...   \n",
       "22  data/images/0022.jpg  https://www.e-codices.unifr.ch/loris/kba/kba-M...   \n",
       "23  data/images/0023.jpg  https://www.e-codices.unifr.ch/loris/kba/kba-M...   \n",
       "24  data/images/0024.jpg  https://www.e-codices.unifr.ch/loris/kba/kba-M...   \n",
       "\n",
       "            x          y  \n",
       "0   17.137331  14.796584  \n",
       "1   17.431763  12.255939  \n",
       "2   17.852579  12.223934  \n",
       "3   18.188419  12.738263  \n",
       "4   19.622440  13.603625  \n",
       "5   16.467052  14.104152  \n",
       "6   16.570480  14.594378  \n",
       "7   17.432487  13.286150  \n",
       "8   17.994232  14.755784  \n",
       "9   18.048140  13.413263  \n",
       "10  18.956749  13.656667  \n",
       "11  19.992907  13.160741  \n",
       "12  19.417843  12.685539  \n",
       "13  19.581850  12.963845  \n",
       "14  16.773361  12.908709  \n",
       "15  16.732038  13.400492  \n",
       "16  18.867928  12.864190  \n",
       "17  18.496155  14.859520  \n",
       "18  18.791613  14.527309  \n",
       "19  17.664036  12.795362  \n",
       "20  17.978642  13.998996  \n",
       "21  17.236235  13.877124  \n",
       "22  18.103611  14.267770  \n",
       "23  19.200346  13.308566  \n",
       "24  17.022194  14.261072  "
      ]
     },
     "execution_count": 33,
     "metadata": {},
     "output_type": "execute_result"
    }
   ],
   "source": [
    "df"
   ]
  },
  {
   "cell_type": "code",
   "execution_count": null,
   "id": "eea7934a-357e-486b-8208-dcc2c43313a6",
   "metadata": {},
   "outputs": [],
   "source": []
  }
 ],
 "metadata": {
  "kernelspec": {
   "display_name": "Python 3 (ipykernel)",
   "language": "python",
   "name": "python3"
  },
  "language_info": {
   "codemirror_mode": {
    "name": "ipython",
    "version": 3
   },
   "file_extension": ".py",
   "mimetype": "text/x-python",
   "name": "python",
   "nbconvert_exporter": "python",
   "pygments_lexer": "ipython3",
   "version": "3.8.5"
  }
 },
 "nbformat": 4,
 "nbformat_minor": 5
}
