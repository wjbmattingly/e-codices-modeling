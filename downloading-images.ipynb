{
 "cells": [
  {
   "cell_type": "code",
   "execution_count": 1,
   "id": "828b567a-7424-402d-82c7-1735a86952b5",
   "metadata": {},
   "outputs": [],
   "source": [
    "from PIL import Image\n",
    "from io import BytesIO\n",
    "import requests\n",
    "import pandas as pd\n",
    "import os"
   ]
  },
  {
   "cell_type": "code",
   "execution_count": 2,
   "id": "f15e7bcc-109c-47d8-8954-c7880e02eb41",
   "metadata": {},
   "outputs": [],
   "source": [
    "if os.path.exists(\"test\"):\n",
    "    pass\n",
    "else:\n",
    "    os.mkdir(\"test\")"
   ]
  },
  {
   "cell_type": "code",
   "execution_count": 3,
   "id": "fdf1d782-dff6-4ba5-9076-89b446fe0072",
   "metadata": {},
   "outputs": [
    {
     "data": {
      "text/html": [
       "<div>\n",
       "<style scoped>\n",
       "    .dataframe tbody tr th:only-of-type {\n",
       "        vertical-align: middle;\n",
       "    }\n",
       "\n",
       "    .dataframe tbody tr th {\n",
       "        vertical-align: top;\n",
       "    }\n",
       "\n",
       "    .dataframe thead th {\n",
       "        text-align: right;\n",
       "    }\n",
       "</style>\n",
       "<table border=\"1\" class=\"dataframe\">\n",
       "  <thead>\n",
       "    <tr style=\"text-align: right;\">\n",
       "      <th></th>\n",
       "      <th>gbifID</th>\n",
       "      <th>type</th>\n",
       "      <th>format</th>\n",
       "      <th>identifier</th>\n",
       "      <th>references</th>\n",
       "      <th>title</th>\n",
       "      <th>description</th>\n",
       "      <th>source</th>\n",
       "      <th>audience</th>\n",
       "      <th>created</th>\n",
       "      <th>creator</th>\n",
       "      <th>contributor</th>\n",
       "      <th>publisher</th>\n",
       "      <th>license</th>\n",
       "      <th>rightsHolder</th>\n",
       "    </tr>\n",
       "  </thead>\n",
       "  <tbody>\n",
       "    <tr>\n",
       "      <th>0</th>\n",
       "      <td>3398475308</td>\n",
       "      <td>StillImage</td>\n",
       "      <td>image/jpeg</td>\n",
       "      <td>http://n2t.net/ark:/65665/m3ab6bd82d-1b85-43e4...</td>\n",
       "      <td>NaN</td>\n",
       "      <td>03478873.tif</td>\n",
       "      <td>Gavilanes, M. 835, US National Herbarium Sheet...</td>\n",
       "      <td>US National Herbarium, Department of Botany, N...</td>\n",
       "      <td>NaN</td>\n",
       "      <td>NaN</td>\n",
       "      <td>Ingrid P. Lin</td>\n",
       "      <td>NaN</td>\n",
       "      <td>Smithsonian Institution, NMNH, Botany</td>\n",
       "      <td>Usage Conditions Apply</td>\n",
       "      <td>NaN</td>\n",
       "    </tr>\n",
       "  </tbody>\n",
       "</table>\n",
       "</div>"
      ],
      "text/plain": [
       "       gbifID        type      format  \\\n",
       "0  3398475308  StillImage  image/jpeg   \n",
       "\n",
       "                                          identifier  references  \\\n",
       "0  http://n2t.net/ark:/65665/m3ab6bd82d-1b85-43e4...         NaN   \n",
       "\n",
       "          title                                        description  \\\n",
       "0  03478873.tif  Gavilanes, M. 835, US National Herbarium Sheet...   \n",
       "\n",
       "                                              source  audience  created  \\\n",
       "0  US National Herbarium, Department of Botany, N...       NaN      NaN   \n",
       "\n",
       "         creator  contributor                              publisher  \\\n",
       "0  Ingrid P. Lin          NaN  Smithsonian Institution, NMNH, Botany   \n",
       "\n",
       "                  license  rightsHolder  \n",
       "0  Usage Conditions Apply           NaN  "
      ]
     },
     "execution_count": 3,
     "metadata": {},
     "output_type": "execute_result"
    }
   ],
   "source": [
    "df = pd.read_csv(\"downloads.txt\", delimiter=\"\\t\")\n",
    "df.head(1)"
   ]
  },
  {
   "cell_type": "code",
   "execution_count": 4,
   "id": "8cf8b33a-161d-4121-b5dc-d43a0fd03b3f",
   "metadata": {},
   "outputs": [],
   "source": [
    "#this should be your list of urls\n",
    "# urls = [\"https://cdn.pixabay.com/photo/2015/04/19/08/32/rose-729509__480.jpg\"]"
   ]
  },
  {
   "cell_type": "code",
   "execution_count": null,
   "id": "da4323a6-b874-4d26-8f5d-70e1ecfc1c3d",
   "metadata": {},
   "outputs": [
    {
     "name": "stdout",
     "output_type": "stream",
     "text": [
      "2643398710 http://n2t.net/ark:/65665/m3aec94fb7-65a0-464a-8dad-48a8cd809a1c\n"
     ]
    }
   ],
   "source": [
    "#loop over your urls\n",
    "for idx, row in df.iterrows():\n",
    "    url = row.identifier\n",
    "    unique_id = row.gbifID\n",
    "    try:\n",
    "        response = requests.get(url)\n",
    "        img = Image.open(BytesIO(response.content))\n",
    "        img.save(f\"test/{unique_id}.jpg\")\n",
    "    except:\n",
    "        Exception\n",
    "        print(unique_id, url)"
   ]
  },
  {
   "cell_type": "code",
   "execution_count": null,
   "id": "5a76d353-27e8-4269-ac4a-5fb3dbbd8ff5",
   "metadata": {},
   "outputs": [],
   "source": [
    "df.loc[3].identifier"
   ]
  },
  {
   "cell_type": "code",
   "execution_count": null,
   "id": "bf2a3808-d6ec-4ca2-99d5-6a46f430e011",
   "metadata": {},
   "outputs": [],
   "source": []
  }
 ],
 "metadata": {
  "kernelspec": {
   "display_name": "Python 3 (ipykernel)",
   "language": "python",
   "name": "python3"
  },
  "language_info": {
   "codemirror_mode": {
    "name": "ipython",
    "version": 3
   },
   "file_extension": ".py",
   "mimetype": "text/x-python",
   "name": "python",
   "nbconvert_exporter": "python",
   "pygments_lexer": "ipython3",
   "version": "3.8.5"
  }
 },
 "nbformat": 4,
 "nbformat_minor": 5
}
