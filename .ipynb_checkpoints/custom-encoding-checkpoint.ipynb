{
 "cells": [
  {
   "cell_type": "code",
   "execution_count": 5,
   "id": "cd741e00-f1db-49b8-a852-ac422ef2ae10",
   "metadata": {},
   "outputs": [],
   "source": [
    "from PIL import Image\n",
    "from tqdm import tqdm\n",
    "import numpy as np\n",
    "from tqdm import tqdm\n",
    "from tensorflow.keras.preprocessing import image\n",
    "from tensorflow.keras.applications.vgg16 import VGG16, preprocess_input\n",
    "from tensorflow.keras.models import Model\n",
    "import tensorflow as tf\n",
    "import glob\n",
    "from umap import UMAP\n",
    "import pandas as pd"
   ]
  },
  {
   "cell_type": "code",
   "execution_count": 6,
   "id": "640404c4-8aaa-44eb-adfd-40ed079563c5",
   "metadata": {},
   "outputs": [],
   "source": [
    "base_model = VGG16(weights='imagenet')\n",
    "# Customize the model to return features from fully-connected layer\n",
    "model = Model(inputs=base_model.input, outputs=base_model.get_layer('fc1').output)"
   ]
  },
  {
   "cell_type": "code",
   "execution_count": 7,
   "id": "b32a90c5-d266-4fe8-920a-474f027e7b8e",
   "metadata": {},
   "outputs": [],
   "source": [
    "def extract(model, img):\n",
    "    # Resize the image\n",
    "    img = img.resize((224, 224))\n",
    "    # Convert the image color space\n",
    "    img = img.convert('RGB')\n",
    "    # Reformat the image\n",
    "    x = image.img_to_array(img)\n",
    "    x = np.expand_dims(x, axis=0)\n",
    "    x = preprocess_input(x)\n",
    "    # Extract Features\n",
    "    feature = model.predict(x)[0]\n",
    "    return feature / np.linalg.norm(feature)\n",
    "\n",
    "def get_feature(model, image_data:list):\n",
    "    features = []\n",
    "    for img_path in tqdm(image_data): # Iterate through images \n",
    "        # Extract Features\n",
    "        try:\n",
    "            feature = extract(model, img=Image.open(img_path))\n",
    "            features.append(feature)\n",
    "        except:\n",
    "            features.append(None)\n",
    "            continue\n",
    "    return features"
   ]
  },
  {
   "cell_type": "code",
   "execution_count": 9,
   "id": "26519c26-8fd0-4487-8774-8cf2250b7935",
   "metadata": {},
   "outputs": [
    {
     "data": {
      "text/plain": [
       "'static/images/kba/kba-0016-1/0001.jpg'"
      ]
     },
     "execution_count": 9,
     "metadata": {},
     "output_type": "execute_result"
    }
   ],
   "source": [
    "files = glob.glob(\"static/images/kba/kba-0016-1/*.jpg\")\n",
    "len(files)\n",
    "files = [file.replace(\"\\\\\", \"/\") for file in files]\n",
    "files[0]"
   ]
  },
  {
   "cell_type": "code",
   "execution_count": 10,
   "id": "132eedcd-ac3c-4702-b107-bd6b1357378b",
   "metadata": {},
   "outputs": [],
   "source": [
    "with open(\"temp.txt\", \"r\") as f:\n",
    "    urls = f.read().splitlines()"
   ]
  },
  {
   "cell_type": "code",
   "execution_count": 11,
   "id": "db67231a-a50e-4910-981f-60f8f8cc83f2",
   "metadata": {},
   "outputs": [
    {
     "name": "stderr",
     "output_type": "stream",
     "text": [
      "100%|████████████████████████████████████████████████████████████████████████████████| 140/140 [00:11<00:00, 12.23it/s]\n"
     ]
    }
   ],
   "source": [
    "features = get_feature(model, files)"
   ]
  },
  {
   "cell_type": "code",
   "execution_count": 14,
   "id": "ab4282e2-32fc-4b8b-8a1c-ba151dcf3fe8",
   "metadata": {},
   "outputs": [],
   "source": [
    "df = pd.DataFrame(files, columns=['image'])"
   ]
  },
  {
   "cell_type": "code",
   "execution_count": 15,
   "id": "3c0677f0-047f-4011-8057-c1abdc07e0db",
   "metadata": {},
   "outputs": [],
   "source": [
    "# Reduce the dimensions with UMAP\n",
    "umap = UMAP()\n",
    "X_tfm = umap.fit_transform(features)\n",
    "\n",
    "# Apply coordinates\n",
    "df['x'] = X_tfm[:, 0]\n",
    "df['y'] = X_tfm[:, 1]\n",
    "df.to_csv(\"ready.csv\", index=False)"
   ]
  },
  {
   "cell_type": "code",
   "execution_count": null,
   "id": "4ece3801-2b2d-4223-9301-da576cc5fbf8",
   "metadata": {},
   "outputs": [],
   "source": []
  },
  {
   "cell_type": "code",
   "execution_count": null,
   "id": "105ff7b1-fe0a-4893-a6a3-844b81cbd163",
   "metadata": {},
   "outputs": [],
   "source": []
  }
 ],
 "metadata": {
  "kernelspec": {
   "display_name": "Python 3 (ipykernel)",
   "language": "python",
   "name": "python3"
  },
  "language_info": {
   "codemirror_mode": {
    "name": "ipython",
    "version": 3
   },
   "file_extension": ".py",
   "mimetype": "text/x-python",
   "name": "python",
   "nbconvert_exporter": "python",
   "pygments_lexer": "ipython3",
   "version": "3.8.5"
  }
 },
 "nbformat": 4,
 "nbformat_minor": 5
}
