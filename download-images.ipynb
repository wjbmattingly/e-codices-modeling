{
 "cells": [
  {
   "cell_type": "code",
   "execution_count": 1,
   "id": "68989c7e-cedb-44a6-9abc-12e4ee4e9c83",
   "metadata": {},
   "outputs": [],
   "source": [
    "import glob\n",
    "import json\n",
    "import os\n",
    "import requests\n",
    "from PIL import Image\n",
    "from io import BytesIO\n",
    "import random\n",
    "import time"
   ]
  },
  {
   "cell_type": "code",
   "execution_count": 2,
   "id": "dfcfc602-e928-4adb-946b-7924bbc4de2f",
   "metadata": {},
   "outputs": [
    {
     "data": {
      "text/plain": [
       "2653"
      ]
     },
     "execution_count": 2,
     "metadata": {},
     "output_type": "execute_result"
    }
   ],
   "source": [
    "files = glob.glob(\"json_data/*.json\")\n",
    "len(files)"
   ]
  },
  {
   "cell_type": "code",
   "execution_count": null,
   "id": "79d50ca4-1fc7-404f-95ff-a9c35b7db3bb",
   "metadata": {},
   "outputs": [
    {
     "name": "stdout",
     "output_type": "stream",
     "text": [
      "json_data\\aef_CSN-III-3-7.json 541\n",
      "json_data\\aev_AV-0062-4.json 121\n",
      "https://www.e-codices.unifr.ch/loris/aev/aev-AV-0062-4/aev-AV-0062-4_0036v.jp2/full/,150/0/default/jpg\n",
      "json_data\\aev_AV-0112-6.json 230\n",
      "json_data\\aev_AVL-0162.json 425\n",
      "json_data\\aev_AVL-0477.json 409\n",
      "https://www.e-codices.unifr.ch/loris/aev/aev-AVL-0477/aev-AVL-0477_046r.jp2/full/,150/0/default/jpg\n",
      "https://www.e-codices.unifr.ch/loris/aev/aev-AVL-0477/aev-AVL-0477_064r.jp2/full/,150/0/default/jpg\n",
      "https://www.e-codices.unifr.ch/loris/aev/aev-AVL-0477/aev-AVL-0477_143r.jp2/full/,150/0/default/jpg\n",
      "https://www.e-codices.unifr.ch/loris/aev/aev-AVL-0477/aev-AVL-0477_189v.jp2/full/,150/0/default/jpg\n",
      "json_data\\aev_AVL-0506.json 345\n",
      "json_data\\aev_AVL-0507.json 473\n",
      "https://www.e-codices.unifr.ch/loris/aev/aev-AVL-0507/aev-AVL-0507_0201v.jp2/full/,150/0/default/jpg\n",
      "json_data\\aev_AVL-0555.json 416\n",
      "json_data\\aev_Mslitt-0010-1.json 4\n",
      "json_data\\aev_Rz-0222.json 140\n",
      "json_data\\aev_S-0109.json 14\n",
      "json_data\\arcj_0187-J-0035e.json 394\n",
      "https://www.e-codices.unifr.ch/loris/arcj/arcj-0187-J-0035e/arcj-0187-J-0035e_149v.jp2/full/,150/0/default/jpg\n",
      "json_data\\aws_B-WG.json 4\n",
      "json_data\\bbb_0165.json 462\n",
      "https://www.e-codices.unifr.ch/loris/bbb/bbb-0165/bbb-0165_031r.jp2/full/,150/0/default/jpg\n",
      "https://www.e-codices.unifr.ch/loris/bbb/bbb-0165/bbb-0165_037r.jp2/full/,150/0/default/jpg\n",
      "https://www.e-codices.unifr.ch/loris/bbb/bbb-0165/bbb-0165_196r.jp2/full/,150/0/default/jpg\n",
      "json_data\\bbb_0167.json 456\n",
      "https://www.e-codices.unifr.ch/loris/bbb/bbb-0167/bbb-0167_097v.jp2/full/,150/0/default/jpg\n",
      "https://www.e-codices.unifr.ch/loris/bbb/bbb-0167/bbb-0167_178v.jp2/full/,150/0/default/jpg\n"
     ]
    }
   ],
   "source": [
    "for file in files:\n",
    "    with open(\"downloaded.txt\", \"r\") as f:\n",
    "        downloaded = f.read().splitlines()\n",
    "    if file not in downloaded:\n",
    "        subfolder = file.split(\"\\\\\")[-1].replace(\".json\", \"\")\n",
    "        with open(file, \"r\", encoding=\"utf-8\") as f:\n",
    "            data = json.load(f)\n",
    "        print(file, len(data[\"canvases\"]))\n",
    "        if os.path.exists(f'final_images/{subfolder}'):\n",
    "            pass\n",
    "        else:\n",
    "            os.mkdir(f'final_images/{subfolder}')\n",
    "        for c in data[\"canvases\"]:\n",
    "            response = requests.get(c[\"src\"])\n",
    "            try:\n",
    "                img = Image.open(BytesIO(response.content))\n",
    "                img.save(f\"final_images/{subfolder}/{c['id']}.jpg\")\n",
    "            except:\n",
    "                NameError\n",
    "                print(c[\"src\"])\n",
    "        with open(\"downloaded.txt\", \"a\") as f:\n",
    "            f.write(\"\\n\"+file+\"\\n\")\n",
    "        time.sleep(random.randint(50, 100))"
   ]
  },
  {
   "cell_type": "code",
   "execution_count": 4,
   "id": "76ad2cc0-6da0-4b58-991c-eaf243b9bf0f",
   "metadata": {},
   "outputs": [],
   "source": [
    "# data"
   ]
  },
  {
   "cell_type": "code",
   "execution_count": null,
   "id": "d904878c-d3e6-4d1d-8e5a-2da9d99c4fc4",
   "metadata": {},
   "outputs": [],
   "source": []
  }
 ],
 "metadata": {
  "kernelspec": {
   "display_name": "Python 3 (ipykernel)",
   "language": "python",
   "name": "python3"
  },
  "language_info": {
   "codemirror_mode": {
    "name": "ipython",
    "version": 3
   },
   "file_extension": ".py",
   "mimetype": "text/x-python",
   "name": "python",
   "nbconvert_exporter": "python",
   "pygments_lexer": "ipython3",
   "version": "3.8.5"
  }
 },
 "nbformat": 4,
 "nbformat_minor": 5
}
