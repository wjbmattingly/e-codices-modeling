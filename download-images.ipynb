{
 "cells": [
  {
   "cell_type": "code",
   "execution_count": 1,
   "id": "68989c7e-cedb-44a6-9abc-12e4ee4e9c83",
   "metadata": {},
   "outputs": [],
   "source": [
    "import glob\n",
    "import json\n",
    "import os\n",
    "import requests\n",
    "from PIL import Image\n",
    "from io import BytesIO\n",
    "import random\n",
    "import time"
   ]
  },
  {
   "cell_type": "code",
   "execution_count": 2,
   "id": "dfcfc602-e928-4adb-946b-7924bbc4de2f",
   "metadata": {},
   "outputs": [
    {
     "data": {
      "text/plain": [
       "2653"
      ]
     },
     "execution_count": 2,
     "metadata": {},
     "output_type": "execute_result"
    }
   ],
   "source": [
    "files = glob.glob(\"json_data/*.json\")\n",
    "len(files)"
   ]
  },
  {
   "cell_type": "code",
   "execution_count": null,
   "id": "79d50ca4-1fc7-404f-95ff-a9c35b7db3bb",
   "metadata": {},
   "outputs": [
    {
     "name": "stdout",
     "output_type": "stream",
     "text": [
      "json_data/zbz_Ms-Or-0157.json 741\n",
      "json_data/bc_b-0274.json 1135\n",
      "https://www.e-codices.unifr.ch/loris/bc/bc-b-0274/bc-b-0274_053r.jp2/full/,150/0/default/jpg\n"
     ]
    }
   ],
   "source": [
    "for file in files:\n",
    "    with open(\"downloaded.txt\", \"r\") as f:\n",
    "        downloaded = f.read().splitlines()\n",
    "    if file not in downloaded:\n",
    "        subfolder = file.split(\"\\\\\")[-1].replace(\".json\", \"\")\n",
    "        folder_name = subfolder.split(\"/\")[-1]\n",
    "        # print(folder_name)\n",
    "        with open(file, \"r\", encoding=\"utf-8\") as f:\n",
    "            data = json.load(f)\n",
    "        print(file, len(data[\"canvases\"]))\n",
    "        if os.path.exists(f'final_images/{folder_name}'):\n",
    "            pass\n",
    "        else:\n",
    "            os.mkdir(f'final_images/{folder_name}')\n",
    "        for c in data[\"canvases\"]:\n",
    "            response = requests.get(c[\"src\"])\n",
    "            try:\n",
    "                img = Image.open(BytesIO(response.content))\n",
    "                img.save(f\"final_images/{folder_name}/{c['id']}.jpg\")\n",
    "            except:\n",
    "                NameError\n",
    "                print(c[\"src\"])\n",
    "        with open(\"downloaded.txt\", \"a\") as f:\n",
    "            f.write(\"\\n\"+file+\"\\n\")\n",
    "        time.sleep(random.randint(1, 20))"
   ]
  },
  {
   "cell_type": "code",
   "execution_count": null,
   "id": "76ad2cc0-6da0-4b58-991c-eaf243b9bf0f",
   "metadata": {},
   "outputs": [],
   "source": [
    "# data"
   ]
  },
  {
   "cell_type": "code",
   "execution_count": null,
   "id": "d904878c-d3e6-4d1d-8e5a-2da9d99c4fc4",
   "metadata": {},
   "outputs": [],
   "source": []
  }
 ],
 "metadata": {
  "kernelspec": {
   "display_name": "Python 3 (ipykernel)",
   "language": "python",
   "name": "python3"
  },
  "language_info": {
   "codemirror_mode": {
    "name": "ipython",
    "version": 3
   },
   "file_extension": ".py",
   "mimetype": "text/x-python",
   "name": "python",
   "nbconvert_exporter": "python",
   "pygments_lexer": "ipython3",
   "version": "3.9.7"
  }
 },
 "nbformat": 4,
 "nbformat_minor": 5
}
